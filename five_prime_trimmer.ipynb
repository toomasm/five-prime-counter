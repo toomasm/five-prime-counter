{
 "metadata": {
  "name": "",
  "signature": "sha256:b568ea80f899f6dd2aacb73abb71eaca6f1429f15cffb1518f77b283c4a569e0"
 },
 "nbformat": 3,
 "nbformat_minor": 0,
 "worksheets": [
  {
   "cells": [
    {
     "cell_type": "code",
     "collapsed": false,
     "input": [
      "from Bio import SeqIO\n",
      "import sys\n",
      "\n",
      "\"\"\" Program that trims your specifified amount of nucleotides from the 5 prime end of the fastq reads. \"\"\"\n",
      "#/media/toomas/DATA1/fastq test/5prime_fastq_test.fastq\n",
      "\n",
      "#The input data path entry and creation of output file for trimmed reads.\n",
      "path_in = raw_input(\"Enter the fastq file path \") \n",
      "data_input = open(path_in, \"r\")\n",
      "path_out = raw_input(\"Enter the output file name \")\n",
      "output = open(path_out, \"w\")\n",
      "\n",
      "#Asks you how much nucleotides would you like to trim from 5 prime end (enter an int) and checks if your entry is valid.\n",
      "try:\n",
      "    trimming_number = int(raw_input(\"How many nucleotides would you like to trim from 5 prime end? Please enter a single number: \"))\n",
      "except ValueError:\n",
      "    print \"This is not a single number!\"\n",
      "    sys.exit()\n",
      "\n",
      "#Just says what the program is about to do. {0} is a placeholder for info behind .format.\n",
      "print \"This code will now trim {0} nucleotides from the five prime end of all your reads\".format(trimming_number)\n",
      "\n",
      "#This code parses fastq file and then iterates over every separate read removing x-nucleotides from the 5 prime end.\n",
      "for rec in SeqIO.parse(data_input, \"fastq\"):\n",
      "    rec = rec[trimming_number:] #removes needed amount of nucleotides from 5 prime end.\n",
      "    SeqIO.write(rec, output, \"fastq\")                              \n",
      "\n",
      "    \n",
      "data_input.close()\n",
      "output.close()\n",
      "\n",
      "#shows how many reads there were in the input file and how many reads are in the output file. \n",
      "num_lines = sum(1 for line in open(path_in))\n",
      "print num_lines\n",
      "num_lines = sum(1 for line in open(path_out))\n",
      "print num_lines\n"
     ],
     "language": "python",
     "metadata": {},
     "outputs": [
      {
       "name": "stdout",
       "output_type": "stream",
       "stream": "stdout",
       "text": [
        "Enter the fastq file path /media/toomas/DATA1/fastq test/5prime_fastq_test.fastq\n"
       ]
      },
      {
       "name": "stdout",
       "output_type": "stream",
       "stream": "stdout",
       "text": [
        "Enter the output file name 5prime.fastq\n"
       ]
      },
      {
       "name": "stdout",
       "output_type": "stream",
       "stream": "stdout",
       "text": [
        "How many nucleotides would you like to trim from 5 prime end? Please enter a single number: 2\n"
       ]
      },
      {
       "output_type": "stream",
       "stream": "stdout",
       "text": [
        "This code will now trim 2 nucleotides from the five prime end of all your reads\n",
        "784\n",
        "784\n"
       ]
      }
     ],
     "prompt_number": 1
    },
    {
     "cell_type": "code",
     "collapsed": false,
     "input": [],
     "language": "python",
     "metadata": {},
     "outputs": []
    }
   ],
   "metadata": {}
  }
 ]
}