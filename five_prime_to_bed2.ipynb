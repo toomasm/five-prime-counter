{
 "metadata": {
  "name": "",
  "signature": "sha256:d97cdd60b6b0e045a55d64aee71304a9cc4df210db60b243ad39cd59ee0b033d"
 },
 "nbformat": 3,
 "nbformat_minor": 0,
 "worksheets": [
  {
   "cells": [
    {
     "cell_type": "code",
     "collapsed": false,
     "input": [
      "import pybedtools\n",
      "\"\"\"BED files give you a start and an ending postition of a mapped read. The start position is in 0 based \n",
      "coordinate system and the end position in 1 based coordinate system. So basically read mapped to location 1 to 50  on chromosome \n",
      "would have start position 0 and end position 50 in BED file. BED file also gives you the strand orientation, so you will know \n",
      "if 5 prime end will be the start or end position of the read.\n",
      "\n",
      "pybedtools is used in this code for importing BED files and also for conducting different operations with BED files. More\n",
      "information about BED files and pybedtools at: https://pythonhosted.org/pybedtools/intervals.html\"\"\"\n",
      "\n",
      "#Imports the BED file into python.\n",
      "path = raw_input(\"Enter the BED file path \") \n",
      "myBED = pybedtools.BedTool(path) \n",
      "\n",
      "#Generates output file. First you must give a name to your output file. Do not forget to add .bed at the end!\n",
      "with open(raw_input(\"Enter the name for your output file \"), \"w\") as output:\n",
      "    \n",
      "#Checks if the read is mapped to + or - strand.\n",
      "#start positions are 0 based and end positions are 1 based\n",
      "#+ strand - the end position will be made to start position + 1. \n",
      "#- strand - the start position will be made end position - 1.    \n",
      "    for read in myBED:\n",
      "        if read.strand == \"+\":\n",
      "            read.stop = read.start + 1\n",
      "        elif read.strand == \"-\":\n",
      "            read.start = read.stop - 1\n",
      "        read.chrom = \"chr\" #Changing chromosome name for \"chr\". For viewing in UCSC the chromosome info must be \"chr\"\n",
      "        output.write(str(read)) #Now we save the results to a new bed file.\n",
      "\n",
      "print \"Code done!\""
     ],
     "language": "python",
     "metadata": {},
     "outputs": [
      {
       "name": "stdout",
       "output_type": "stream",
       "stream": "stdout",
       "text": [
        "Enter the BED file path /media/toomas/DATA1/BED_test/BED_test.bed\n"
       ]
      },
      {
       "name": "stdout",
       "output_type": "stream",
       "stream": "stdout",
       "text": [
        "Enter the name for your output file second_test.bed\n"
       ]
      },
      {
       "output_type": "stream",
       "stream": "stdout",
       "text": [
        "Code done!\n"
       ]
      }
     ],
     "prompt_number": 5
    },
    {
     "cell_type": "code",
     "collapsed": false,
     "input": [],
     "language": "python",
     "metadata": {},
     "outputs": []
    }
   ],
   "metadata": {}
  }
 ]
}