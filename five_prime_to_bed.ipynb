{
 "metadata": {
  "name": "",
  "signature": "sha256:6a5ba428732fdabefaa64ef8358db9a19a95a3e9c83074e29807a3814f804ea5"
 },
 "nbformat": 3,
 "nbformat_minor": 0,
 "worksheets": [
  {
   "cells": [
    {
     "cell_type": "code",
     "collapsed": false,
     "input": [
      "import pybedtools\n",
      "\"\"\"Code that makes reads in bed file one nucleotide long- representing the five prime end of reads\"\"\"\n",
      "\n",
      "#Imports the BED file into python.\n",
      "path = raw_input(\"Enter the BED file path \") \n",
      "myBED = pybedtools.BedTool(path) \n",
      "\n",
      "#Generates output file. First you must give a name to your output file. Do not forget to add .bed at the end!\n",
      "output_name = raw_input(\"Enter the name for your output file \")\n",
      "output = open(output_name, \"w\")\n",
      "\n",
      "#Checks if the read is mapped to + or - strand.\n",
      "#start positions are 0 based and end positions are 1 based)\n",
      "#+ strand - the end position will be made to start position + 1. \n",
      "#- strand - the start position will be made end position - 1.\n",
      "for read in myBED: \n",
      "    if read.strand == \"+\":\n",
      "        read.stop = read.start + 1\n",
      "    elif read.strand == \"-\":\n",
      "        read.start = read.stop - 1\n",
      "    read.chrom = \"chr\" #Changing chromosome name for \"chr\". For viewing in UCSC the chromosome info must be \"chr\"\n",
      "    output.write(str(read)) #Now we save the results to a new bed file.\n",
      "    \n",
      "output.close() #closes the output file\n",
      "print \"Code completed!\"\n"
     ],
     "language": "python",
     "metadata": {},
     "outputs": [
      {
       "name": "stdout",
       "output_type": "stream",
       "stream": "stdout",
       "text": [
        "Enter the BED file path /media/toomas/DATA1/BED_test/BED_test.bed\n"
       ]
      },
      {
       "name": "stdout",
       "output_type": "stream",
       "stream": "stdout",
       "text": [
        "Enter the name for your output file BED_test_chr.bed\n"
       ]
      },
      {
       "output_type": "stream",
       "stream": "stdout",
       "text": [
        "Code completed!\n"
       ]
      }
     ],
     "prompt_number": 5
    },
    {
     "cell_type": "code",
     "collapsed": false,
     "input": [],
     "language": "python",
     "metadata": {},
     "outputs": [
      {
       "metadata": {},
       "output_type": "pyout",
       "prompt_number": 3,
       "text": [
        "pybedtools.bedtool.BedTool"
       ]
      }
     ],
     "prompt_number": 3
    },
    {
     "cell_type": "code",
     "collapsed": false,
     "input": [],
     "language": "python",
     "metadata": {},
     "outputs": []
    }
   ],
   "metadata": {}
  }
 ]
}