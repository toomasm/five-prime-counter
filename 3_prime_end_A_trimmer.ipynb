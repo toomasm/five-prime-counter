{
 "metadata": {
  "name": "",
  "signature": "sha256:d0d0a64a0c365a3f9ffabaca5ad608bd9463fbf31e4f7b17941cad611d37a246"
 },
 "nbformat": 3,
 "nbformat_minor": 0,
 "worksheets": [
  {
   "cells": [
    {
     "cell_type": "code",
     "collapsed": false,
     "input": [
      "from Bio import SeqIO\n",
      "\n",
      "\"\"\" Program that trims all \"A\" nucleotides from the 3 prime end of the fastq reads. It removes \"A\" nucleotides till it reaches a \n",
      "none A nucleotide.\"\"\"\n",
      "#/media/toomas/DATA1/fastq test/3prime_fastq_test.fastq\n",
      "\n",
      "#The input data path entry and creation of output file for trimmed reads.\n",
      "path_in = raw_input(\"Enter the fastq file path \") \n",
      "data_input = open(path_in, \"r\")\n",
      "path_out = raw_input(\"Enter the output file name \")\n",
      "output = open(path_out, \"w\")\n",
      "\n",
      "#This code at first parses fastq file. Then it starts to iterate backwards over every characater in the read.\n",
      "#It counts the number of A nucleotides at the end of the read, removes as many from the 3 prime end and writes the read \n",
      "#to a new file.\n",
      "for rec in SeqIO.parse(data_input, \"fastq\"):#iterates over reads.\n",
      "    count = 0\n",
      "    for c in rec.seq[::-1]: #Iterates backwards over nucleotides in read.\n",
      "        if c == \"A\": #counts the number of \"A\"-s at the 3 prime end.\n",
      "            count += 1\n",
      "        else:\n",
      "            break\n",
      "    if count == 0: #assures that the read wont be deleted if no A-s are at the end.\n",
      "        pass\n",
      "    else:\n",
      "        rec = rec[:-count] #removes nucleotides from 3 prime end. if -count is 0 it deletes the read so it has to be atlest 1.\n",
      "    SeqIO.write(rec, output, \"fastq\")\n",
      "\n",
      "data_input.close()\n",
      "output.close()\n",
      "\n",
      "num_lines = sum(1 for line in open(path_in))\n",
      "print num_lines\n",
      "num_lines = sum(1 for line in open(path_out))\n",
      "print num_lines"
     ],
     "language": "python",
     "metadata": {},
     "outputs": [
      {
       "name": "stdout",
       "output_type": "stream",
       "stream": "stdout",
       "text": [
        "Enter the fastq file path /media/toomas/DATA1/fastq test/3prime_fastq_test.fastq\n"
       ]
      },
      {
       "name": "stdout",
       "output_type": "stream",
       "stream": "stdout",
       "text": [
        "Enter the output file name 3prime.fastq\n"
       ]
      },
      {
       "output_type": "stream",
       "stream": "stdout",
       "text": [
        "344\n",
        "344\n"
       ]
      }
     ],
     "prompt_number": 2
    },
    {
     "cell_type": "code",
     "collapsed": false,
     "input": [],
     "language": "python",
     "metadata": {},
     "outputs": []
    }
   ],
   "metadata": {}
  }
 ]
}