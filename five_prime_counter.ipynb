{
 "metadata": {
  "name": "",
  "signature": "sha256:621d81246c4b200dbdaf2082dfd8e8a1a533f240138e323dfdf9fff06dd2cea3"
 },
 "nbformat": 3,
 "nbformat_minor": 0,
 "worksheets": [
  {
   "cells": [
    {
     "cell_type": "code",
     "collapsed": false,
     "input": [
      "import pybedtools\n",
      "import collections\n",
      "import csv"
     ],
     "language": "python",
     "metadata": {},
     "outputs": [],
     "prompt_number": 7
    },
    {
     "cell_type": "code",
     "collapsed": false,
     "input": [
      "\"\"\"Following code should count how many 5 prime ends are mapped to every genomic position (if the result for a position is 0 it \n",
      "will not be displayed). BED files give you a start and an ending postition of a mapped read. The start position is in 0 based \n",
      "coordinate system and the end position in 1 based coordinate system. So basically read mapped to location 1 to 50  on chromosome \n",
      "would have start position 0 and end position 50 in BED file. BED file also gives you the strand orientation, so you will know \n",
      "if 5 prime end will be the start or end position of the read.\n",
      "\n",
      "pybedtools is used in this code for importing BED files and also for conducting different operations with BED files. More\n",
      "information about BED files and pybedtools at: https://pythonhosted.org/pybedtools/intervals.html\"\"\"\n",
      "\n",
      "#Importing the BED file into python.\n",
      "path = raw_input(\"Enter the BED file path \")\n",
      "myBED = pybedtools.BedTool(path) "
     ],
     "language": "python",
     "metadata": {},
     "outputs": [
      {
       "name": "stdout",
       "output_type": "stream",
       "stream": "stdout",
       "text": [
        "Enter the BED file path /media/toomas/DATA1/BED_test/BED_test.bed\n"
       ]
      }
     ],
     "prompt_number": 8
    },
    {
     "cell_type": "code",
     "collapsed": false,
     "input": [
      "#Algorithm that makes a list that contains five prime end position of every read.\n",
      "#Checks if the read is mappd to + or - strand. \n",
      "#If it is on + strand it adds the start position of the read to the list and adds 1 to it \n",
      "#(because start position is given in 0 based coordinates).\n",
      "#When te read is on - strand it adds the end position to the list(not adding 1 this time because this coordinate is 1 based).\n",
      "#When the strand information is neither \"-\" or \"+\" skips the read.\n",
      "\n",
      "five_prime = []\n",
      "for n in myBED:\n",
      "    if n.strand == \"+\":\n",
      "        five_prime.append(n.start+1)\n",
      "    elif n.strand == \"-\":\n",
      "        five_prime.append(n.stop)"
     ],
     "language": "python",
     "metadata": {},
     "outputs": [],
     "prompt_number": 9
    },
    {
     "cell_type": "code",
     "collapsed": false,
     "input": [
      "#The part where we count how many five prime ends we have in specific genome positions.\n",
      "five_prime_count = collections.Counter(five_prime)\n",
      "\n",
      "#write the results to csv file.\n",
      "the_output = raw_input(\"Name of your csv output file \")     \n",
      "csv_file = csv.writer(open(the_output, \"w\"))\n",
      "for key, value in five_prime_count.items():\n",
      "    csv_file.writerow([key, value]) \n",
      "#I was thinking of using only key element for loop, but Markus'es idea is computationally faster.\n"
     ],
     "language": "python",
     "metadata": {},
     "outputs": [
      {
       "name": "stdout",
       "output_type": "stream",
       "stream": "stdout",
       "text": [
        "Name of your csv output file sdfsd.CSV\n"
       ]
      }
     ],
     "prompt_number": 10
    },
    {
     "cell_type": "code",
     "collapsed": false,
     "input": [],
     "language": "python",
     "metadata": {},
     "outputs": []
    }
   ],
   "metadata": {}
  }
 ]
}